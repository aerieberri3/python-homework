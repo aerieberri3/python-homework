{
 "cells": [
  {
   "cell_type": "code",
   "execution_count": 2,
   "id": "94511d0a-c382-42e4-8a62-cad8aa939e8e",
   "metadata": {},
   "outputs": [],
   "source": [
    "import csv\n",
    "from pathlib import Path"
   ]
  },
  {
   "cell_type": "code",
   "execution_count": 5,
   "id": "f6fd556d-9957-423e-8fa7-45d4213eedf8",
   "metadata": {},
   "outputs": [],
   "source": [
    "file_2_load=Path(\"Resources/budget_data.csv\")"
   ]
  },
  {
   "cell_type": "code",
   "execution_count": 6,
   "id": "c713da99-54aa-4920-941e-0e614b0de261",
   "metadata": {},
   "outputs": [],
   "source": [
    "with open(file_2_load) as financial_data:\n",
    "    reader = csv.reader(financial_data)\n",
    "    header=next(reader)\n",
    "    \n",
    "            "
   ]
  },
  {
   "cell_type": "code",
   "execution_count": 11,
   "id": "67b6c834-ba8a-497f-bf85-6cc9bc840423",
   "metadata": {},
   "outputs": [
    {
     "data": {
      "text/plain": [
       "['Feb-2010', '984655']"
      ]
     },
     "execution_count": 11,
     "metadata": {},
     "output_type": "execute_result"
    }
   ],
   "source": [
    "rowone"
   ]
  },
  {
   "cell_type": "raw",
   "id": "d8d25e2d-79bb-4f5f-9227-019b39c2a203",
   "metadata": {},
   "source": [
    "file_2_load=df"
   ]
  },
  {
   "cell_type": "code",
   "execution_count": null,
   "id": "c9b7f427-4ab5-49d8-8b4c-07360e4a819a",
   "metadata": {},
   "outputs": [],
   "source": []
  }
 ],
 "metadata": {
  "kernelspec": {
   "display_name": "Python 3 (ipykernel)",
   "language": "python",
   "name": "python3"
  },
  "language_info": {
   "codemirror_mode": {
    "name": "ipython",
    "version": 3
   },
   "file_extension": ".py",
   "mimetype": "text/x-python",
   "name": "python",
   "nbconvert_exporter": "python",
   "pygments_lexer": "ipython3",
   "version": "3.9.13"
  }
 },
 "nbformat": 4,
 "nbformat_minor": 5
}
